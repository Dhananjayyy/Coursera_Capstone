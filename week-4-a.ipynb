{
    "cells": [
        {
            "metadata": {
                "collapsed": true
            },
            "cell_type": "markdown",
            "source": "\n## **The battle of Neighborhoods**\n\n**Week 4:** _Part A)_\n\n**Title:** Restaurant recommender system in Pune\n\n\n**Problem background:**\n\nPune is the cultural capital and largest city of the Indian state of Maharashtra. With a population of over 8 million (as of May 2020), Pune is famously knows as the Oxford of the east.\n\nPune is derived from a word called Punya, which literally means the conflux of two rivers, as it is settled at the confluence of the Muthi and Mula rivers. As per few old records it was called Punaka Desha and later Punekavadi, Punevadi, Kasaba Pune. According to history researcher Mandar Lavate the city got its name fror the nearby temple Punyeshwar, a lord Shiva temple. Pune official name was Poona until 1978.\n\nPune is the ninth most populated city in India\nProblem description :\n\nSuppose i travel and keep changing places very frequently. This is very hectic and plus i get to experience very different types of environment, of which i donot have much knowledge about. In such situation, food can be an important factor for decided how you rate your trips and plus also recommmending it to the people. Food can also attract people around to world to try it out if it were to be the best. In such scenarios, we need to find the right place, at reasonable cost, to serve us the best possible way. So there are few questions that must be addresed, such as :\n\n  > How many types of foods are available in the restaurant ? <p>\n    Which is the most nearest to me with good rating? <p>\n    How many \"similar\" restaurants are available near by me? <p>\n    Do the \"similar\" restaurants cost more ? if so, what speciality do that have? <p>\n\nTo address such question, XXYZ company's manager decides to allocate this project to me not just to find out solutions to the questions but also build a system that can help in recommending new places based on their rankings compared to the previously visited by me.\n\nExpectations from this recommender system is to get answer for the questions, and in such a way that it uncovers all the perspective of managing recommendations. It is sighted to show :\n\n >  What types of restaurants are present in a paeticular area? <p>\n    where are the similar restaurant present based on a preference to particular food? <p>\n    How do different restaurants rank with respect to my preferences ?\n\n**Target audience:**\n\nTarget audiences for this project does not limit to a person who keeps travelling but everyone. People could simply decide to look for a similar restaurant all the time because they are addicted to a specific category of food. People who rarely use restaurants would prefer to have the most rated restaurants nearby them and all this could be easily handed by our recommender system. So target for this project is basically everyone who is exploring different places or similar places.\n\n**Success rate:**\n\nWith restaurants evolving, new food categories emerge, hybrid food starts to be more popular, we need a system that could help us access vast number of food varieties. It is impossible for a person to ask each and everyone about their visit to a particular place and also not everyone remembers everything. On the other hand, Computers are good at remembering things, and with Machine learning to its peak, it high time technology will by our personal guidence and help us personally based on our likes and dislikes. So people would care about this project as their personal assistance and success rate could certainly increase with time.\n"
        }
    ],
    "metadata": {
        "kernelspec": {
            "name": "python3",
            "display_name": "Python 3.6",
            "language": "python"
        },
        "language_info": {
            "name": "python",
            "version": "3.6.9",
            "mimetype": "text/x-python",
            "codemirror_mode": {
                "name": "ipython",
                "version": 3
            },
            "pygments_lexer": "ipython3",
            "nbconvert_exporter": "python",
            "file_extension": ".py"
        }
    },
    "nbformat": 4,
    "nbformat_minor": 1
}